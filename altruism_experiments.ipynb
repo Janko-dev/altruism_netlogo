{
 "cells": [
  {
   "cell_type": "code",
   "execution_count": 8,
   "id": "f456a181-679f-41f7-98f5-ce59d921a40b",
   "metadata": {},
   "outputs": [],
   "source": [
    "import itertools\n",
    "\n",
    "import pandas as pd\n",
    "import numpy as np\n",
    "import pynetlogo"
   ]
  },
  {
   "cell_type": "markdown",
   "id": "fb05b6d4-e80a-40a9-8d82-aaadc6859944",
   "metadata": {},
   "source": [
    "### Connect to NetLogo"
   ]
  },
  {
   "cell_type": "code",
   "execution_count": 9,
   "id": "1e851199-4cc9-4b3b-976c-2632cb37bc39",
   "metadata": {},
   "outputs": [],
   "source": [
    "netlogo = pynetlogo.NetLogoLink(gui=False)\n",
    "netlogo.load_model('Altruism_RMAI.nlogo')"
   ]
  },
  {
   "cell_type": "markdown",
   "id": "a9912239-2a2b-410c-bc91-1569f57c3266",
   "metadata": {},
   "source": [
    "### Define Experiment Parameters"
   ]
  },
  {
   "cell_type": "code",
   "execution_count": 10,
   "id": "292fd265-5d7e-4ba2-b40c-f6f2cb2443a4",
   "metadata": {},
   "outputs": [],
   "source": [
    "TICKS = 10\n",
    "\n",
    "experiment_parameters = {\n",
    "    'occupation-prob': [0.1, 0.5, 0.9],\n",
    "    'occupation-radius': [10, 20, 40],\n",
    "    'occupation-diffusion': [0.2, 0.6, 1],\n",
    "    'repeat-diffusion': [1, 10, 30],\n",
    "    'initial-patch-resource': [1,  60, 99],\n",
    "    'initial-patch-harshness': [1, 50, 99],\n",
    "    'prob-gain-resource': [0.1, 0.5, 0.9],\n",
    "    'agent-move-cost': [1, 40, 80],\n",
    "    'stride-length': [0.1, 0.7, 0.8],\n",
    "    'resource-energy': [20, 60, 99],\n",
    "    'altruism-resource-threshold': [1, 80, 99],\n",
    "    'reproduction-threshold': [1, 80, 99],\n",
    "    'reproduction-cost': [1, 60, 99]\n",
    "}"
   ]
  },
  {
   "cell_type": "markdown",
   "id": "f8928f8e-24d9-439b-9e02-6b1e3977ea1c",
   "metadata": {},
   "source": [
    "### Make list of all parameter combinations"
   ]
  },
  {
   "cell_type": "code",
   "execution_count": 11,
   "id": "d9e5a67d-e01b-4506-a721-29325614e8fd",
   "metadata": {},
   "outputs": [
    {
     "data": {
      "text/plain": [
       "1594323"
      ]
     },
     "execution_count": 11,
     "metadata": {},
     "output_type": "execute_result"
    }
   ],
   "source": [
    "keys, values = zip(*experiment_parameters.items())\n",
    "parameter_combinations = [dict(zip(keys, v)) for v in itertools.product(*values)]\n",
    "len(parameter_combinations)"
   ]
  },
  {
   "cell_type": "markdown",
   "id": "b86e9a60-0344-455f-86e1-ef3e4103d2be",
   "metadata": {},
   "source": [
    "### Run experiments"
   ]
  },
  {
   "cell_type": "code",
   "execution_count": 5,
   "id": "ffe7510a-9577-46a8-a4ed-923b5878367b",
   "metadata": {},
   "outputs": [
    {
     "name": "stdout",
     "output_type": "stream",
     "text": [
      "Running with params:  {'occupation-prob': 0.1, 'occupation-radius': 10, 'occupation-diffusion': 0.2, 'repeat-diffusion': 1, 'initial-patch-resource': 1, 'initial-patch-harshness': 1, 'prob-gain-resource': 0.1, 'agent-move-cost': 1, 'stride-length': 0.1, 'resource-energy': 20, 'altruism-resource-threshold': 1, 'reproduction-threshold': 1, 'reproduction-cost': 1}\n"
     ]
    }
   ],
   "source": [
    "results = []\n",
    "\n",
    "for params in parameter_combinations:\n",
    "    netlogo.command('setup')\n",
    "\n",
    "    print('Running with params: ', params)\n",
    "    for param, value in params.items():\n",
    "        netlogo.command(f'set {param} {value}')\n",
    "    \n",
    "    netlogo.command(f'repeat {TICKS} [ go ]')  \n",
    "    \n",
    "    # Collect results\n",
    "    count_altruism_agents = netlogo.report('count altruism-agents')\n",
    "    count_greedy_agents = netlogo.report('count greedy-agents')\n",
    "    results.append({**params, 'Altruism Agents': count_altruism_agents, 'Greedy Agents': count_greedy_agents})\n",
    "    break"
   ]
  },
  {
   "cell_type": "code",
   "execution_count": 6,
   "id": "04f26c4c-e56c-41d2-9c1c-e86eec7cfb93",
   "metadata": {},
   "outputs": [
    {
     "data": {
      "text/plain": [
       "[{'occupation-prob': 0.1,\n",
       "  'occupation-radius': 10,\n",
       "  'occupation-diffusion': 0.2,\n",
       "  'repeat-diffusion': 1,\n",
       "  'initial-patch-resource': 1,\n",
       "  'initial-patch-harshness': 1,\n",
       "  'prob-gain-resource': 0.1,\n",
       "  'agent-move-cost': 1,\n",
       "  'stride-length': 0.1,\n",
       "  'resource-energy': 20,\n",
       "  'altruism-resource-threshold': 1,\n",
       "  'reproduction-threshold': 1,\n",
       "  'reproduction-cost': 1,\n",
       "  'Altruism Agents': 53678.0,\n",
       "  'Greedy Agents': 30026.0}]"
      ]
     },
     "execution_count": 6,
     "metadata": {},
     "output_type": "execute_result"
    }
   ],
   "source": [
    "results"
   ]
  },
  {
   "cell_type": "code",
   "execution_count": null,
   "id": "b0fc9698-44ef-49ac-8d2a-fcc02b79e089",
   "metadata": {},
   "outputs": [],
   "source": []
  }
 ],
 "metadata": {
  "kernelspec": {
   "display_name": "Python 3 (ipykernel)",
   "language": "python",
   "name": "python3"
  },
  "language_info": {
   "codemirror_mode": {
    "name": "ipython",
    "version": 3
   },
   "file_extension": ".py",
   "mimetype": "text/x-python",
   "name": "python",
   "nbconvert_exporter": "python",
   "pygments_lexer": "ipython3",
   "version": "3.10.13"
  }
 },
 "nbformat": 4,
 "nbformat_minor": 5
}
