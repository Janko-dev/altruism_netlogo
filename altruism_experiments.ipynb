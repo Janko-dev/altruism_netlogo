{
 "cells": [
  {
   "cell_type": "code",
   "execution_count": 2,
   "id": "f456a181-679f-41f7-98f5-ce59d921a40b",
   "metadata": {},
   "outputs": [],
   "source": [
    "import itertools\n",
    "\n",
    "import pandas as pd\n",
    "import numpy as np\n",
    "import pynetlogo\n",
    "from tqdm import tqdm"
   ]
  },
  {
   "cell_type": "markdown",
   "id": "fb05b6d4-e80a-40a9-8d82-aaadc6859944",
   "metadata": {},
   "source": [
    "### Connect to NetLogo"
   ]
  },
  {
   "cell_type": "code",
   "execution_count": 9,
   "id": "1e851199-4cc9-4b3b-976c-2632cb37bc39",
   "metadata": {},
   "outputs": [],
   "source": [
    "import os, sys\n",
    "if sys.platform == 'win32':\n",
    "    os.environ[\"JAVA_HOME\"] = 'C:/Program Files/NetLogo 6.3.0/runtime/bin/server/'\n",
    "\n",
    "\n",
    "netlogo = pynetlogo.NetLogoLink(gui=False)\n",
    "netlogo.load_model('Altruism_RMAI.nlogo')"
   ]
  },
  {
   "cell_type": "markdown",
   "id": "a9912239-2a2b-410c-bc91-1569f57c3266",
   "metadata": {},
   "source": [
    "### Define Experiment Parameters"
   ]
  },
  {
   "cell_type": "code",
   "execution_count": 12,
   "id": "292fd265-5d7e-4ba2-b40c-f6f2cb2443a4",
   "metadata": {},
   "outputs": [],
   "source": [
    "# # length of each experiment\n",
    "# TICKS = 10\n",
    "\n",
    "# # how many to run each experiment\n",
    "# N_RUNS = 1\n",
    "\n",
    "# experiment_parameters = {\n",
    "#     'occupation-prob': [0.1, 0.5, 0.9],\n",
    "#     'occupation-radius': [10, 20, 40],\n",
    "#     'occupation-diffusion': [0.2, 0.6, 1],\n",
    "#     'prob-gain-resource': [0.1, 0.5, 0.9],\n",
    "#     'agent-move-cost': [1, 40, 80],\n",
    "#     'stride-length': [0.1, 0.7, 0.8],\n",
    "#     'amt-resource-consumption': [20, 60, 99],\n",
    "#     'altruism-resource-threshold': [1, 80, 99],\n",
    "#     'reproduction-threshold': [1, 80, 99],\n",
    "#     'reproduction-cost': [1, 60, 99]\n",
    "# }"
   ]
  },
  {
   "cell_type": "markdown",
   "id": "da538a9f",
   "metadata": {},
   "source": [
    "To reduce the parameter space, we adjust parameters in groups of related simulation variables. \n",
    "\n",
    "- **occupation**: variable with range $[0, 1]$, where we assume that the probability, radius, and smoothness (diffusion) of the occupied region is linear. This maps to: \n",
    "  - *occupation-prob* with range $[0, 1]$\n",
    "  - *occupation-radius* with range $[0, 40]$ \n",
    "  - *occupation-diffusion* with range $[0, 1]$\n",
    "- **initial-harshness**: variable with range $[0, 50]$ that corresponds to the initial harshness of the patches, and is related to the amount of occupation.\n",
    "- **viscosity**: variable with range $[0, 1]$, where we assume that the cost of dispersal is higher when the movement distance is longer. This is inversely proportional to the following ranges \n",
    "  - *agent-move-cost* with range $[0, 20]$\n",
    "  - *stride-length* with range $[0, 1]$\n",
    "- **consumption**: variable with range $[0, 1]$, where we assume that there is a inverse relation between the probability of a patch gaining new resources and the amount of energy that an agent gains after consuming resources. This maps to\n",
    "  - *prob-gain-resource* with range $[0, 1]$\n",
    "  - *energy-gain* with range $[0, 100]$\n",
    "- **reproduction**: variable with range $[0, 1]$, where we assume that the energy threshold to reproduce and the cost to reproduce are correlated. This cost should have a tighter range, so that agents do not immediately die after reproducing. This maps to\n",
    "  - *reproduction-threshold* with range $[50, 200]$\n",
    "  - *reproduction-cost* with range $[50, 100]$\n",
    "- **altruism-factor**: variable with range $[0, 100]$ that corresponds to the amount of altruism that altruistic agents confer by being conservative about resource consumption, in effect leaving more resources to other agents."
   ]
  },
  {
   "cell_type": "code",
   "execution_count": 10,
   "id": "1dfe5885",
   "metadata": {},
   "outputs": [
    {
     "data": {
      "text/plain": [
       "{'prob-gain-resource': 0.8, 'energy-gain': 20.0}"
      ]
     },
     "execution_count": 10,
     "metadata": {},
     "output_type": "execute_result"
    }
   ],
   "source": [
    "# length of each experiment\n",
    "TICKS = 100\n",
    "\n",
    "# amount of values to consider per param\n",
    "LEVELS = 5\n",
    "\n",
    "# how many to run each experiment\n",
    "N_RUNS = 10\n",
    "\n",
    "experiment_parameters = {\n",
    "    'occupation': np.linspace(0, 1, LEVELS),\n",
    "    'initial-harshness': np.linspace(0, 1, LEVELS),\n",
    "    'viscosity': np.linspace(0, 1, LEVELS),\n",
    "    'consumption': np.linspace(0, 1, LEVELS),\n",
    "    'reproduction': np.linspace(0, 1, LEVELS),\n",
    "    'altruism-factor': np.linspace(0, 1, LEVELS),\n",
    "}\n",
    "\n",
    "param_dict = {\n",
    "    'occupation': {\n",
    "        'occupation-prob': (0, 1),\n",
    "        'occupation-radius': (0, 40),\n",
    "        'occupation-diffusion': (0, 1),\n",
    "    },\n",
    "    'initial-harshness': {'initial-patch-harshness': (0, 50)},\n",
    "    'viscosity': {\n",
    "        'agent-move-cost': (20, 0),\n",
    "        'stride-length': (1, 0)\n",
    "    },\n",
    "    'consumption': {\n",
    "        'prob-gain-resource': (0, 1),\n",
    "        'energy-gain': (100, 0)\n",
    "    },\n",
    "    'reproduction': {\n",
    "        'reproduction-threshold': (50, 200),\n",
    "        'reproduction-cost': (50, 100)\n",
    "    },\n",
    "    'altruism-factor': {'altruism-resource-threshold': (0, 100)},\n",
    "}\n",
    "\n",
    "def mapsto(x, params: dict[str, tuple[int]]):\n",
    "    return {key: x*(value[1]-value[0])+value[0] for key, value in params.items()}\n",
    "\n",
    "mapsto(0.8, param_dict['consumption'])"
   ]
  },
  {
   "cell_type": "markdown",
   "id": "f8928f8e-24d9-439b-9e02-6b1e3977ea1c",
   "metadata": {},
   "source": [
    "### Make list of all parameter combinations"
   ]
  },
  {
   "cell_type": "code",
   "execution_count": 11,
   "id": "d9e5a67d-e01b-4506-a721-29325614e8fd",
   "metadata": {},
   "outputs": [
    {
     "data": {
      "text/plain": [
       "15625"
      ]
     },
     "execution_count": 11,
     "metadata": {},
     "output_type": "execute_result"
    }
   ],
   "source": [
    "keys, values = zip(*experiment_parameters.items())\n",
    "parameter_combinations = [dict(zip(keys, v)) for v in itertools.product(*values)]\n",
    "# parameter_combinations = [param for param in parameter_combinations for _ in range(0, N_RUNS)]\n",
    "len(parameter_combinations)"
   ]
  },
  {
   "cell_type": "markdown",
   "id": "b86e9a60-0344-455f-86e1-ef3e4103d2be",
   "metadata": {},
   "source": [
    "### Run experiments"
   ]
  },
  {
   "cell_type": "code",
   "execution_count": 31,
   "id": "ffe7510a-9577-46a8-a4ed-923b5878367b",
   "metadata": {},
   "outputs": [
    {
     "name": "stderr",
     "output_type": "stream",
     "text": [
      "  0%|          | 0/15625 [00:00<?, ?it/s]"
     ]
    },
    {
     "name": "stdout",
     "output_type": "stream",
     "text": [
      "43004.0\n"
     ]
    },
    {
     "name": "stderr",
     "output_type": "stream",
     "text": [
      "\n"
     ]
    }
   ],
   "source": [
    "results = []\n",
    "TICKS = 20\n",
    "\n",
    "for params in tqdm(parameter_combinations):\n",
    "    netlogo.command('setup')\n",
    "\n",
    "    for param, value in params.items():\n",
    "        mapped_params = mapsto(value, param_dict[param])\n",
    "        for mapped_param, mapped_value in mapped_params.items():\n",
    "            netlogo.command(f'set {mapped_param} {mapped_value}')\n",
    "    \n",
    "    # counts = netlogo.repeat_report(['count altruism-agents', 'count greedy-agents'], TICKS)\n",
    "    # results.append({\n",
    "    #     **params, \n",
    "    #     'Altruism Agents': np.mean(counts['count altruism-agents']), \n",
    "    #     'Greedy Agents': np.mean(counts['count greedy-agents']), \n",
    "    #     'Number of ticks': counts['ticks'][-1]\n",
    "    # })\n",
    "\n",
    "    # print(results)\n",
    "    # print(counts)\n",
    "    \n",
    "    # break\n",
    "\n",
    "    netlogo.command(f'repeat {TICKS} [go if count turtles = 0 [stop]]')\n",
    "    # Collect results\n",
    "    count_altruism_agents = netlogo.report('count altruism-agents')\n",
    "    count_greedy_agents = netlogo.report('count greedy-agents')\n",
    "    n_ticks = netlogo.report('ticks')\n",
    "\n",
    "    results.append({**params, 'Altruism Agents': count_altruism_agents, 'Greedy Agents': count_greedy_agents, 'Number of ticks': n_ticks})\n",
    "    "
   ]
  },
  {
   "cell_type": "code",
   "execution_count": 32,
   "id": "bfbd08f5",
   "metadata": {},
   "outputs": [
    {
     "data": {
      "text/plain": [
       "10.0"
      ]
     },
     "execution_count": 32,
     "metadata": {},
     "output_type": "execute_result"
    }
   ],
   "source": [
    "n_ticks"
   ]
  },
  {
   "cell_type": "code",
   "execution_count": 7,
   "id": "04f26c4c-e56c-41d2-9c1c-e86eec7cfb93",
   "metadata": {},
   "outputs": [],
   "source": [
    "results_df = pd.DataFrame(results)"
   ]
  },
  {
   "cell_type": "code",
   "execution_count": 8,
   "id": "2fe237e2-bfd5-4420-9204-5b6a45460f4e",
   "metadata": {},
   "outputs": [
    {
     "data": {
      "text/html": [
       "<div>\n",
       "<style scoped>\n",
       "    .dataframe tbody tr th:only-of-type {\n",
       "        vertical-align: middle;\n",
       "    }\n",
       "\n",
       "    .dataframe tbody tr th {\n",
       "        vertical-align: top;\n",
       "    }\n",
       "\n",
       "    .dataframe thead th {\n",
       "        text-align: right;\n",
       "    }\n",
       "</style>\n",
       "<table border=\"1\" class=\"dataframe\">\n",
       "  <thead>\n",
       "    <tr style=\"text-align: right;\">\n",
       "      <th></th>\n",
       "      <th>occupation</th>\n",
       "      <th>initial-harshness</th>\n",
       "      <th>viscosity</th>\n",
       "      <th>consumption</th>\n",
       "      <th>reproduction</th>\n",
       "      <th>altruism-factor</th>\n",
       "      <th>Altruism Agents</th>\n",
       "      <th>Greedy Agents</th>\n",
       "      <th>Number of ticks</th>\n",
       "    </tr>\n",
       "  </thead>\n",
       "  <tbody>\n",
       "    <tr>\n",
       "      <th>0</th>\n",
       "      <td>0.0</td>\n",
       "      <td>0.0</td>\n",
       "      <td>0.0</td>\n",
       "      <td>0.0</td>\n",
       "      <td>0.00</td>\n",
       "      <td>0.00</td>\n",
       "      <td>89.554455</td>\n",
       "      <td>109.455446</td>\n",
       "      <td>100.0</td>\n",
       "    </tr>\n",
       "    <tr>\n",
       "      <th>1</th>\n",
       "      <td>0.0</td>\n",
       "      <td>0.0</td>\n",
       "      <td>0.0</td>\n",
       "      <td>0.0</td>\n",
       "      <td>0.00</td>\n",
       "      <td>0.25</td>\n",
       "      <td>91.544554</td>\n",
       "      <td>107.465347</td>\n",
       "      <td>100.0</td>\n",
       "    </tr>\n",
       "    <tr>\n",
       "      <th>2</th>\n",
       "      <td>0.0</td>\n",
       "      <td>0.0</td>\n",
       "      <td>0.0</td>\n",
       "      <td>0.0</td>\n",
       "      <td>0.00</td>\n",
       "      <td>0.50</td>\n",
       "      <td>93.534653</td>\n",
       "      <td>105.475248</td>\n",
       "      <td>100.0</td>\n",
       "    </tr>\n",
       "    <tr>\n",
       "      <th>3</th>\n",
       "      <td>0.0</td>\n",
       "      <td>0.0</td>\n",
       "      <td>0.0</td>\n",
       "      <td>0.0</td>\n",
       "      <td>0.00</td>\n",
       "      <td>0.75</td>\n",
       "      <td>69.653465</td>\n",
       "      <td>129.356436</td>\n",
       "      <td>100.0</td>\n",
       "    </tr>\n",
       "    <tr>\n",
       "      <th>4</th>\n",
       "      <td>0.0</td>\n",
       "      <td>0.0</td>\n",
       "      <td>0.0</td>\n",
       "      <td>0.0</td>\n",
       "      <td>0.00</td>\n",
       "      <td>1.00</td>\n",
       "      <td>89.554455</td>\n",
       "      <td>109.455446</td>\n",
       "      <td>100.0</td>\n",
       "    </tr>\n",
       "    <tr>\n",
       "      <th>5</th>\n",
       "      <td>0.0</td>\n",
       "      <td>0.0</td>\n",
       "      <td>0.0</td>\n",
       "      <td>0.0</td>\n",
       "      <td>0.25</td>\n",
       "      <td>0.00</td>\n",
       "      <td>103.485149</td>\n",
       "      <td>95.524752</td>\n",
       "      <td>100.0</td>\n",
       "    </tr>\n",
       "    <tr>\n",
       "      <th>6</th>\n",
       "      <td>0.0</td>\n",
       "      <td>0.0</td>\n",
       "      <td>0.0</td>\n",
       "      <td>0.0</td>\n",
       "      <td>0.25</td>\n",
       "      <td>0.25</td>\n",
       "      <td>101.495050</td>\n",
       "      <td>97.514851</td>\n",
       "      <td>100.0</td>\n",
       "    </tr>\n",
       "    <tr>\n",
       "      <th>7</th>\n",
       "      <td>0.0</td>\n",
       "      <td>0.0</td>\n",
       "      <td>0.0</td>\n",
       "      <td>0.0</td>\n",
       "      <td>0.25</td>\n",
       "      <td>0.50</td>\n",
       "      <td>107.465347</td>\n",
       "      <td>91.544554</td>\n",
       "      <td>100.0</td>\n",
       "    </tr>\n",
       "    <tr>\n",
       "      <th>8</th>\n",
       "      <td>0.0</td>\n",
       "      <td>0.0</td>\n",
       "      <td>0.0</td>\n",
       "      <td>0.0</td>\n",
       "      <td>0.25</td>\n",
       "      <td>0.75</td>\n",
       "      <td>93.534653</td>\n",
       "      <td>105.475248</td>\n",
       "      <td>100.0</td>\n",
       "    </tr>\n",
       "    <tr>\n",
       "      <th>9</th>\n",
       "      <td>0.0</td>\n",
       "      <td>0.0</td>\n",
       "      <td>0.0</td>\n",
       "      <td>0.0</td>\n",
       "      <td>0.25</td>\n",
       "      <td>1.00</td>\n",
       "      <td>97.514851</td>\n",
       "      <td>101.495050</td>\n",
       "      <td>100.0</td>\n",
       "    </tr>\n",
       "    <tr>\n",
       "      <th>10</th>\n",
       "      <td>0.0</td>\n",
       "      <td>0.0</td>\n",
       "      <td>0.0</td>\n",
       "      <td>0.0</td>\n",
       "      <td>0.50</td>\n",
       "      <td>0.00</td>\n",
       "      <td>54.000000</td>\n",
       "      <td>46.000000</td>\n",
       "      <td>100.0</td>\n",
       "    </tr>\n",
       "    <tr>\n",
       "      <th>11</th>\n",
       "      <td>0.0</td>\n",
       "      <td>0.0</td>\n",
       "      <td>0.0</td>\n",
       "      <td>0.0</td>\n",
       "      <td>0.50</td>\n",
       "      <td>0.25</td>\n",
       "      <td>57.000000</td>\n",
       "      <td>43.000000</td>\n",
       "      <td>100.0</td>\n",
       "    </tr>\n",
       "    <tr>\n",
       "      <th>12</th>\n",
       "      <td>0.0</td>\n",
       "      <td>0.0</td>\n",
       "      <td>0.0</td>\n",
       "      <td>0.0</td>\n",
       "      <td>0.50</td>\n",
       "      <td>0.50</td>\n",
       "      <td>54.000000</td>\n",
       "      <td>46.000000</td>\n",
       "      <td>100.0</td>\n",
       "    </tr>\n",
       "    <tr>\n",
       "      <th>13</th>\n",
       "      <td>0.0</td>\n",
       "      <td>0.0</td>\n",
       "      <td>0.0</td>\n",
       "      <td>0.0</td>\n",
       "      <td>0.50</td>\n",
       "      <td>0.75</td>\n",
       "      <td>49.000000</td>\n",
       "      <td>51.000000</td>\n",
       "      <td>100.0</td>\n",
       "    </tr>\n",
       "    <tr>\n",
       "      <th>14</th>\n",
       "      <td>0.0</td>\n",
       "      <td>0.0</td>\n",
       "      <td>0.0</td>\n",
       "      <td>0.0</td>\n",
       "      <td>0.50</td>\n",
       "      <td>1.00</td>\n",
       "      <td>38.000000</td>\n",
       "      <td>62.000000</td>\n",
       "      <td>100.0</td>\n",
       "    </tr>\n",
       "  </tbody>\n",
       "</table>\n",
       "</div>"
      ],
      "text/plain": [
       "    occupation  initial-harshness  viscosity  consumption  reproduction  \\\n",
       "0          0.0                0.0        0.0          0.0          0.00   \n",
       "1          0.0                0.0        0.0          0.0          0.00   \n",
       "2          0.0                0.0        0.0          0.0          0.00   \n",
       "3          0.0                0.0        0.0          0.0          0.00   \n",
       "4          0.0                0.0        0.0          0.0          0.00   \n",
       "5          0.0                0.0        0.0          0.0          0.25   \n",
       "6          0.0                0.0        0.0          0.0          0.25   \n",
       "7          0.0                0.0        0.0          0.0          0.25   \n",
       "8          0.0                0.0        0.0          0.0          0.25   \n",
       "9          0.0                0.0        0.0          0.0          0.25   \n",
       "10         0.0                0.0        0.0          0.0          0.50   \n",
       "11         0.0                0.0        0.0          0.0          0.50   \n",
       "12         0.0                0.0        0.0          0.0          0.50   \n",
       "13         0.0                0.0        0.0          0.0          0.50   \n",
       "14         0.0                0.0        0.0          0.0          0.50   \n",
       "\n",
       "    altruism-factor  Altruism Agents  Greedy Agents  Number of ticks  \n",
       "0              0.00        89.554455     109.455446            100.0  \n",
       "1              0.25        91.544554     107.465347            100.0  \n",
       "2              0.50        93.534653     105.475248            100.0  \n",
       "3              0.75        69.653465     129.356436            100.0  \n",
       "4              1.00        89.554455     109.455446            100.0  \n",
       "5              0.00       103.485149      95.524752            100.0  \n",
       "6              0.25       101.495050      97.514851            100.0  \n",
       "7              0.50       107.465347      91.544554            100.0  \n",
       "8              0.75        93.534653     105.475248            100.0  \n",
       "9              1.00        97.514851     101.495050            100.0  \n",
       "10             0.00        54.000000      46.000000            100.0  \n",
       "11             0.25        57.000000      43.000000            100.0  \n",
       "12             0.50        54.000000      46.000000            100.0  \n",
       "13             0.75        49.000000      51.000000            100.0  \n",
       "14             1.00        38.000000      62.000000            100.0  "
      ]
     },
     "execution_count": 8,
     "metadata": {},
     "output_type": "execute_result"
    }
   ],
   "source": [
    "results_df"
   ]
  },
  {
   "cell_type": "markdown",
   "id": "e9dcbde9",
   "metadata": {},
   "source": [
    "### Concurrent implementation"
   ]
  },
  {
   "cell_type": "code",
   "execution_count": null,
   "id": "4040f03a-5e79-4bd2-bb48-995575b9a272",
   "metadata": {},
   "outputs": [],
   "source": []
  }
 ],
 "metadata": {
  "kernelspec": {
   "display_name": "Python 3 (ipykernel)",
   "language": "python",
   "name": "python3"
  },
  "language_info": {
   "codemirror_mode": {
    "name": "ipython",
    "version": 3
   },
   "file_extension": ".py",
   "mimetype": "text/x-python",
   "name": "python",
   "nbconvert_exporter": "python",
   "pygments_lexer": "ipython3",
   "version": "3.11.7"
  }
 },
 "nbformat": 4,
 "nbformat_minor": 5
}
