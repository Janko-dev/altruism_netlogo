{
 "cells": [
  {
   "cell_type": "code",
   "execution_count": 1,
   "id": "f456a181-679f-41f7-98f5-ce59d921a40b",
   "metadata": {},
   "outputs": [
    {
     "name": "stderr",
     "output_type": "stream",
     "text": [
      "/var/folders/51/wgmtx7ys3731mhrjy2sngf1r0000gp/T/ipykernel_61812/3467248944.py:3: DeprecationWarning: \n",
      "Pyarrow will become a required dependency of pandas in the next major release of pandas (pandas 3.0),\n",
      "(to allow more performant data types, such as the Arrow string type, and better interoperability with other libraries)\n",
      "but was not found to be installed on your system.\n",
      "If this would cause problems for you,\n",
      "please provide us feedback at https://github.com/pandas-dev/pandas/issues/54466\n",
      "        \n",
      "  import pandas as pd\n"
     ]
    }
   ],
   "source": [
    "import itertools\n",
    "\n",
    "import pandas as pd\n",
    "import numpy as np\n",
    "import pynetlogo\n",
    "from tqdm import tqdm"
   ]
  },
  {
   "cell_type": "markdown",
   "id": "fb05b6d4-e80a-40a9-8d82-aaadc6859944",
   "metadata": {},
   "source": [
    "### Connect to NetLogo"
   ]
  },
  {
   "cell_type": "code",
   "execution_count": 2,
   "id": "1e851199-4cc9-4b3b-976c-2632cb37bc39",
   "metadata": {},
   "outputs": [],
   "source": [
    "netlogo = pynetlogo.NetLogoLink(gui=False)\n",
    "netlogo.load_model('Altruism_RMAI.nlogo')"
   ]
  },
  {
   "cell_type": "markdown",
   "id": "a9912239-2a2b-410c-bc91-1569f57c3266",
   "metadata": {},
   "source": [
    "### Define Experiment Parameters"
   ]
  },
  {
   "cell_type": "code",
   "execution_count": 3,
   "id": "292fd265-5d7e-4ba2-b40c-f6f2cb2443a4",
   "metadata": {},
   "outputs": [],
   "source": [
    "# length of each experiment\n",
    "TICKS = 10\n",
    "\n",
    "# how many to run each experiment\n",
    "N_RUNS = 1\n",
    "\n",
    "experiment_parameters = {\n",
    "    'occupation-prob': [0.1, 0.5, 0.9],\n",
    "    'occupation-radius': [10, 20, 40],\n",
    "    'occupation-diffusion': [0.2, 0.6, 1],\n",
    "    'prob-gain-resource': [0.1, 0.5, 0.9],\n",
    "    'agent-move-cost': [1, 40, 80],\n",
    "    'stride-length': [0.1, 0.7, 0.8],\n",
    "    'resource-energy': [20, 60, 99],\n",
    "    'altruism-resource-threshold': [1, 80, 99],\n",
    "    'reproduction-threshold': [1, 80, 99],\n",
    "    'reproduction-cost': [1, 60, 99]\n",
    "}"
   ]
  },
  {
   "cell_type": "markdown",
   "id": "f8928f8e-24d9-439b-9e02-6b1e3977ea1c",
   "metadata": {},
   "source": [
    "### Make list of all parameter combinations"
   ]
  },
  {
   "cell_type": "code",
   "execution_count": 5,
   "id": "d9e5a67d-e01b-4506-a721-29325614e8fd",
   "metadata": {},
   "outputs": [
    {
     "data": {
      "text/plain": [
       "59049"
      ]
     },
     "execution_count": 5,
     "metadata": {},
     "output_type": "execute_result"
    }
   ],
   "source": [
    "keys, values = zip(*experiment_parameters.items())\n",
    "parameter_combinations = [dict(zip(keys, v)) for v in itertools.product(*values)]\n",
    "parameter_combinations = [param for param in parameter_combinations for _ in range(0, N_RUNS)]\n",
    "len(parameter_combinations)"
   ]
  },
  {
   "cell_type": "markdown",
   "id": "b86e9a60-0344-455f-86e1-ef3e4103d2be",
   "metadata": {},
   "source": [
    "### Run experiments"
   ]
  },
  {
   "cell_type": "code",
   "execution_count": 6,
   "id": "ffe7510a-9577-46a8-a4ed-923b5878367b",
   "metadata": {},
   "outputs": [
    {
     "name": "stderr",
     "output_type": "stream",
     "text": [
      "  0%|                                     | 11/59049 [00:06<10:23:25,  1.58it/s]\n"
     ]
    },
    {
     "ename": "KeyboardInterrupt",
     "evalue": "",
     "output_type": "error",
     "traceback": [
      "\u001b[0;31m---------------------------------------------------------------------------\u001b[0m",
      "\u001b[0;31mKeyboardInterrupt\u001b[0m                         Traceback (most recent call last)",
      "Cell \u001b[0;32mIn[6], line 14\u001b[0m\n\u001b[1;32m     12\u001b[0m count_altruism_agents \u001b[38;5;241m=\u001b[39m netlogo\u001b[38;5;241m.\u001b[39mreport(\u001b[38;5;124m'\u001b[39m\u001b[38;5;124mcount altruism-agents\u001b[39m\u001b[38;5;124m'\u001b[39m)\n\u001b[1;32m     13\u001b[0m count_greedy_agents \u001b[38;5;241m=\u001b[39m netlogo\u001b[38;5;241m.\u001b[39mreport(\u001b[38;5;124m'\u001b[39m\u001b[38;5;124mcount greedy-agents\u001b[39m\u001b[38;5;124m'\u001b[39m)\n\u001b[0;32m---> 14\u001b[0m n_ticks \u001b[38;5;241m=\u001b[39m \u001b[43mnetlogo\u001b[49m\u001b[38;5;241;43m.\u001b[39;49m\u001b[43mreport\u001b[49m\u001b[43m(\u001b[49m\u001b[38;5;124;43m'\u001b[39;49m\u001b[38;5;124;43mticks\u001b[39;49m\u001b[38;5;124;43m'\u001b[39;49m\u001b[43m)\u001b[49m\n\u001b[1;32m     16\u001b[0m results\u001b[38;5;241m.\u001b[39mappend({\u001b[38;5;241m*\u001b[39m\u001b[38;5;241m*\u001b[39mparams, \u001b[38;5;124m'\u001b[39m\u001b[38;5;124mAltruism Agents\u001b[39m\u001b[38;5;124m'\u001b[39m: count_altruism_agents, \u001b[38;5;124m'\u001b[39m\u001b[38;5;124mGreedy Agents\u001b[39m\u001b[38;5;124m'\u001b[39m: count_greedy_agents, \u001b[38;5;124m'\u001b[39m\u001b[38;5;124mNumber of ticks\u001b[39m\u001b[38;5;124m'\u001b[39m: n_ticks})\n",
      "File \u001b[0;32m~/miniconda3/envs/altruism/lib/python3.10/site-packages/pynetlogo/core.py:296\u001b[0m, in \u001b[0;36mNetLogoLink.report\u001b[0;34m(self, netlogo_reporter)\u001b[0m\n\u001b[1;32m    278\u001b[0m \u001b[38;5;250m\u001b[39m\u001b[38;5;124;03m\"\"\"Return values from a NetLogo reporter\u001b[39;00m\n\u001b[1;32m    279\u001b[0m \n\u001b[1;32m    280\u001b[0m \u001b[38;5;124;03mAny reporter (command which returns a value) that can be called\u001b[39;00m\n\u001b[0;32m   (...)\u001b[0m\n\u001b[1;32m    292\u001b[0m \n\u001b[1;32m    293\u001b[0m \u001b[38;5;124;03m\"\"\"\u001b[39;00m\n\u001b[1;32m    295\u001b[0m \u001b[38;5;28;01mtry\u001b[39;00m:\n\u001b[0;32m--> 296\u001b[0m     result \u001b[38;5;241m=\u001b[39m \u001b[38;5;28;43mself\u001b[39;49m\u001b[38;5;241;43m.\u001b[39;49m\u001b[43mlink\u001b[49m\u001b[38;5;241;43m.\u001b[39;49m\u001b[43mreport\u001b[49m\u001b[43m(\u001b[49m\u001b[43mnetlogo_reporter\u001b[49m\u001b[43m)\u001b[49m\n\u001b[1;32m    297\u001b[0m     \u001b[38;5;28;01mreturn\u001b[39;00m \u001b[38;5;28mself\u001b[39m\u001b[38;5;241m.\u001b[39m_cast_results(result)\n\u001b[1;32m    298\u001b[0m \u001b[38;5;28;01mexcept\u001b[39;00m jpype\u001b[38;5;241m.\u001b[39mJException \u001b[38;5;28;01mas\u001b[39;00m ex:\n",
      "\u001b[0;31mKeyboardInterrupt\u001b[0m: "
     ]
    }
   ],
   "source": [
    "results = []\n",
    "\n",
    "for params in tqdm(parameter_combinations):\n",
    "    netlogo.command('setup')\n",
    "\n",
    "    for param, value in params.items():\n",
    "        netlogo.command(f'set {param} {value}')\n",
    "    \n",
    "    netlogo.command(f'repeat {TICKS} [ go ]')  \n",
    "    \n",
    "    # Collect results\n",
    "    count_altruism_agents = netlogo.report('count altruism-agents')\n",
    "    count_greedy_agents = netlogo.report('count greedy-agents')\n",
    "    n_ticks = netlogo.report('ticks')\n",
    "\n",
    "    results.append({**params, 'Altruism Agents': count_altruism_agents, 'Greedy Agents': count_greedy_agents, 'Number of ticks': n_ticks})\n",
    "    "
   ]
  },
  {
   "cell_type": "code",
   "execution_count": null,
   "id": "04f26c4c-e56c-41d2-9c1c-e86eec7cfb93",
   "metadata": {},
   "outputs": [],
   "source": [
    "results_df = pd.DataFrame(results)"
   ]
  },
  {
   "cell_type": "code",
   "execution_count": null,
   "id": "2fe237e2-bfd5-4420-9204-5b6a45460f4e",
   "metadata": {},
   "outputs": [],
   "source": [
    "results_df"
   ]
  },
  {
   "cell_type": "code",
   "execution_count": null,
   "id": "4040f03a-5e79-4bd2-bb48-995575b9a272",
   "metadata": {},
   "outputs": [],
   "source": []
  }
 ],
 "metadata": {
  "kernelspec": {
   "display_name": "Python 3 (ipykernel)",
   "language": "python",
   "name": "python3"
  },
  "language_info": {
   "codemirror_mode": {
    "name": "ipython",
    "version": 3
   },
   "file_extension": ".py",
   "mimetype": "text/x-python",
   "name": "python",
   "nbconvert_exporter": "python",
   "pygments_lexer": "ipython3",
   "version": "3.10.13"
  }
 },
 "nbformat": 4,
 "nbformat_minor": 5
}
